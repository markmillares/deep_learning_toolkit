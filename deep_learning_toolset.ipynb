{
 "cells": [
  {
   "cell_type": "markdown",
   "id": "b26e053c-cedb-4e5b-be49-b3fee517b659",
   "metadata": {},
   "source": [
    "## ArtificiaL Neural Network"
   ]
  },
  {
   "cell_type": "markdown",
   "id": "9b66d9ae-ece9-46b7-82ae-f494ac7a2395",
   "metadata": {
    "tags": []
   },
   "source": [
    "Importing libraries"
   ]
  },
  {
   "cell_type": "code",
   "execution_count": 2,
   "id": "6b9f6af7-3bb6-463d-930c-e2167c88f0fd",
   "metadata": {},
   "outputs": [],
   "source": [
    "import numpy as np\n",
    "import pandas as pd\n",
    "import tensorflow as tf"
   ]
  },
  {
   "cell_type": "markdown",
   "id": "bd89c421-4855-4429-be52-6d329690bc37",
   "metadata": {},
   "source": [
    "### Data Preprocessing"
   ]
  },
  {
   "cell_type": "code",
   "execution_count": null,
   "id": "bf5da38a-2193-49c1-90f8-984e527cec1e",
   "metadata": {},
   "outputs": [],
   "source": [
    "df = pd.read_csv(#data.csv)\n",
    "df.head()\n",
    "\n",
    "X = df.iloc[:,3:-1].values\n",
    "y = df.iloc[:,-1].values"
   ]
  },
  {
   "cell_type": "markdown",
   "id": "e553cdd5-a968-4042-989c-f90689b15452",
   "metadata": {
    "tags": []
   },
   "source": [
    "Encoding categorica data"
   ]
  },
  {
   "cell_type": "code",
   "execution_count": null,
   "id": "d518930c-d0b9-4a46-a0fa-6fb297caf72c",
   "metadata": {},
   "outputs": [],
   "source": [
    "from sklearn.preprocessing import LabelEncoder\n",
    "le = LabelEncoder()\n",
    "X[:,2] = le.fit_transform(X[:,2])"
   ]
  },
  {
   "cell_type": "markdown",
   "id": "285e4410-a48a-4281-a455-bc4f8670add2",
   "metadata": {
    "tags": []
   },
   "source": [
    "One Hot Encoding for features with multiple categories"
   ]
  },
  {
   "cell_type": "code",
   "execution_count": null,
   "id": "e3196000-adc3-4583-98d2-64c29b4d8a1a",
   "metadata": {},
   "outputs": [],
   "source": [
    "from sklearn.compose import ColumnTransformer\n",
    "from sklearn.preprocessing import OneHotEncoder\n",
    "\n",
    "ct = ColumnTransformer(transformers=[(\"encoder\", OneHotEncoder(), [1])], remainder=\"passthrough\")\n",
    "X = np.array(ct.fit_transform(X))"
   ]
  },
  {
   "cell_type": "markdown",
   "id": "491cbaea-8575-4a71-bec0-e703b0f5c814",
   "metadata": {},
   "source": [
    "Train Test Split"
   ]
  },
  {
   "cell_type": "code",
   "execution_count": null,
   "id": "abb19d97-2a1f-4ec8-9da6-3c660156da5b",
   "metadata": {},
   "outputs": [],
   "source": [
    "from sklearn.model_selection import train_test_split\n",
    "\n",
    "X_train, X_test, y_train, y_test = train_test_split(X, y, test_size=0.2, random_state=0)"
   ]
  },
  {
   "cell_type": "markdown",
   "id": "899a3874-2d1e-4385-87b5-f64e93ccd42c",
   "metadata": {
    "tags": []
   },
   "source": [
    "Feature Scaling"
   ]
  },
  {
   "cell_type": "code",
   "execution_count": null,
   "id": "a7a90374-b0d5-4331-b877-7afa3aca30b5",
   "metadata": {},
   "outputs": [],
   "source": [
    "from sklearn.preprocessing import StandardScaler\n",
    "\n",
    "sc = StandardScaler()\n",
    "\n",
    "X_train = sc.fit_transform(X_train)\n",
    "X_test = sc.transform(X_test)"
   ]
  },
  {
   "cell_type": "markdown",
   "id": "ae3b821d-8e69-40bb-8fa4-c9a7024f3256",
   "metadata": {},
   "source": [
    "### Building the ANN"
   ]
  },
  {
   "cell_type": "markdown",
   "id": "a60715ff-2fd8-460c-8909-23c9bf136765",
   "metadata": {},
   "source": [
    "Initializing"
   ]
  },
  {
   "cell_type": "code",
   "execution_count": null,
   "id": "f2108579-4927-400d-8abf-d42509cf5d81",
   "metadata": {},
   "outputs": [],
   "source": [
    "ann = tf.keras.models.Sequential()"
   ]
  },
  {
   "cell_type": "markdown",
   "id": "a9aa917f-0027-4b4b-8edf-ca3365893bb7",
   "metadata": {
    "tags": []
   },
   "source": [
    "Adding the input layer and first hidden layer"
   ]
  },
  {
   "cell_type": "code",
   "execution_count": null,
   "id": "b43cdfce-7b4b-400e-b6e2-df50e3d3324a",
   "metadata": {
    "tags": []
   },
   "outputs": [],
   "source": [
    "ann.add(tf.keras.layers.Dense(units=6, activation=\"relu\"))"
   ]
  },
  {
   "cell_type": "markdown",
   "id": "d350c3a5-1f55-48b6-bc4a-0d76768bbbc7",
   "metadata": {
    "tags": []
   },
   "source": [
    "Adding the second hidden layer"
   ]
  },
  {
   "cell_type": "code",
   "execution_count": null,
   "id": "aefd144e-6251-47bd-85d7-ff8f50c37e6c",
   "metadata": {},
   "outputs": [],
   "source": [
    "ann.add(tf.keras.layers.Dense(units=6, activation=\"relu\"))"
   ]
  },
  {
   "cell_type": "markdown",
   "id": "21192d61-4098-44b1-b340-8c0a3e86ea68",
   "metadata": {},
   "source": [
    "Adding the output layer"
   ]
  },
  {
   "cell_type": "code",
   "execution_count": null,
   "id": "fc5d6e1a-fdfc-4697-a194-65b53303b632",
   "metadata": {},
   "outputs": [],
   "source": [
    "ann.add(tf.keras.layers.Dense(units=1, activation=\"sigmoid\"))"
   ]
  },
  {
   "cell_type": "markdown",
   "id": "56a5013c-73a1-4284-863b-0ee8600b5fb9",
   "metadata": {},
   "source": [
    "### Training the ANN"
   ]
  },
  {
   "cell_type": "markdown",
   "id": "6730d924-5a61-470e-af76-c93671fa021e",
   "metadata": {},
   "source": [
    "Compiling"
   ]
  },
  {
   "cell_type": "code",
   "execution_count": null,
   "id": "c9cef2ce-4a38-4eb4-b5c5-5bfe3756e4c2",
   "metadata": {},
   "outputs": [],
   "source": [
    "ann.compile(optimizer= \"adam\", loss= \"binary_crossentropy\", metrics= [\"accuracy\"])"
   ]
  },
  {
   "cell_type": "markdown",
   "id": "84518354-75bf-4027-b93c-0f2dcdcac55f",
   "metadata": {},
   "source": [
    "Training"
   ]
  },
  {
   "cell_type": "code",
   "execution_count": null,
   "id": "1dc6ad73-30f7-43d5-8f1a-3df9219ff32e",
   "metadata": {},
   "outputs": [],
   "source": [
    "ann.fit(X_train, y_train, batch_size= 32, epochs= 100)"
   ]
  },
  {
   "cell_type": "markdown",
   "id": "0cc3e12a-4950-432f-8164-3874f4a85bdf",
   "metadata": {},
   "source": [
    "### Model Evaluation"
   ]
  },
  {
   "cell_type": "code",
   "execution_count": null,
   "id": "af5af126-2544-4d10-8bf9-efe211c5f9c6",
   "metadata": {},
   "outputs": [],
   "source": [
    "y_pred = ann.predict(X_test)\n",
    "\n",
    "y_pred = (y_pred > 0.5)\n",
    "\n",
    "np.concatenate((y_pred.reshape(-1, 1), y_test.reshape(-1, 1)), axis= 1)"
   ]
  },
  {
   "cell_type": "code",
   "execution_count": null,
   "id": "9a3a37a9-c592-41b4-8e21-061e5eff0f9b",
   "metadata": {},
   "outputs": [],
   "source": [
    "from sklearn.metrics import confusion_matrix, accuracy_score\n",
    "confusion_matrix(y_test, y_pred)\n",
    "accuracy_score(y_test, y_pred)\n",
    "\n"
   ]
  }
 ],
 "metadata": {
  "kernelspec": {
   "display_name": "Python 3",
   "language": "python",
   "name": "python3"
  },
  "language_info": {
   "codemirror_mode": {
    "name": "ipython",
    "version": 3
   },
   "file_extension": ".py",
   "mimetype": "text/x-python",
   "name": "python",
   "nbconvert_exporter": "python",
   "pygments_lexer": "ipython3",
   "version": "3.8.8"
  }
 },
 "nbformat": 4,
 "nbformat_minor": 5
}
