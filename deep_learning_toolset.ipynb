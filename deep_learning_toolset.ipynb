{
 "cells": [
  {
   "cell_type": "markdown",
   "id": "b26e053c-cedb-4e5b-be49-b3fee517b659",
   "metadata": {},
   "source": [
    "## ArtificiaL Neural Network"
   ]
  },
  {
   "cell_type": "markdown",
   "id": "9b66d9ae-ece9-46b7-82ae-f494ac7a2395",
   "metadata": {
    "tags": []
   },
   "source": [
    "Importing libraries"
   ]
  },
  {
   "cell_type": "code",
   "execution_count": 2,
   "id": "6b9f6af7-3bb6-463d-930c-e2167c88f0fd",
   "metadata": {},
   "outputs": [],
   "source": [
    "import numpy as np\n",
    "import pandas as pd\n",
    "import tensorflow as tf"
   ]
  },
  {
   "cell_type": "markdown",
   "id": "bd89c421-4855-4429-be52-6d329690bc37",
   "metadata": {},
   "source": [
    "### Data Preprocessing"
   ]
  },
  {
   "cell_type": "code",
   "execution_count": null,
   "id": "bf5da38a-2193-49c1-90f8-984e527cec1e",
   "metadata": {},
   "outputs": [],
   "source": [
    "df = pd.read_csv(#data.csv)\n",
    "df.head()\n",
    "\n",
    "X = df.iloc[:,3:-1].values\n",
    "y = df.iloc[:,-1].values"
   ]
  },
  {
   "cell_type": "markdown",
   "id": "e553cdd5-a968-4042-989c-f90689b15452",
   "metadata": {
    "tags": []
   },
   "source": [
    "Encoding categorica data"
   ]
  },
  {
   "cell_type": "code",
   "execution_count": null,
   "id": "d518930c-d0b9-4a46-a0fa-6fb297caf72c",
   "metadata": {},
   "outputs": [],
   "source": [
    "from sklearn.preprocessing import LabelEncoder\n",
    "le = LabelEncoder()\n",
    "X[:,2] = le.fit_transform(X[:,2])"
   ]
  },
  {
   "cell_type": "markdown",
   "id": "285e4410-a48a-4281-a455-bc4f8670add2",
   "metadata": {
    "tags": []
   },
   "source": [
    "One Hot Encoding for features with multiple categories"
   ]
  },
  {
   "cell_type": "code",
   "execution_count": null,
   "id": "e3196000-adc3-4583-98d2-64c29b4d8a1a",
   "metadata": {},
   "outputs": [],
   "source": [
    "from sklearn.compose import ColumnTransformer\n",
    "from sklearn.preprocessing import OneHotEncoder\n",
    "\n",
    "ct = ColumnTransformer(transformers=[(\"encoder\", OneHotEncoder(), [1])], remainder=\"passthrough\")\n",
    "X = np.array(ct.fit_transform(X))"
   ]
  },
  {
   "cell_type": "markdown",
   "id": "491cbaea-8575-4a71-bec0-e703b0f5c814",
   "metadata": {},
   "source": [
    "Train Test Split"
   ]
  },
  {
   "cell_type": "code",
   "execution_count": null,
   "id": "abb19d97-2a1f-4ec8-9da6-3c660156da5b",
   "metadata": {},
   "outputs": [],
   "source": [
    "from sklearn.model_selection import train_test_split\n",
    "\n",
    "X_train, X_test, y_train, y_test = train_test_split(X, y, test_size=0.2, random_state=0)"
   ]
  },
  {
   "cell_type": "markdown",
   "id": "899a3874-2d1e-4385-87b5-f64e93ccd42c",
   "metadata": {
    "tags": []
   },
   "source": [
    "Feature Scaling"
   ]
  },
  {
   "cell_type": "code",
   "execution_count": null,
   "id": "a7a90374-b0d5-4331-b877-7afa3aca30b5",
   "metadata": {},
   "outputs": [],
   "source": [
    "from sklearn.preprocessing import StandardScaler\n",
    "\n",
    "sc = StandardScaler()\n",
    "\n",
    "X_train = sc.fit_transform(X_train)\n",
    "X_test = sc.transform(X_test)"
   ]
  },
  {
   "cell_type": "markdown",
   "id": "ae3b821d-8e69-40bb-8fa4-c9a7024f3256",
   "metadata": {},
   "source": [
    "### Building the ANN"
   ]
  },
  {
   "cell_type": "markdown",
   "id": "a60715ff-2fd8-460c-8909-23c9bf136765",
   "metadata": {},
   "source": [
    "Initializing"
   ]
  },
  {
   "cell_type": "code",
   "execution_count": null,
   "id": "f2108579-4927-400d-8abf-d42509cf5d81",
   "metadata": {},
   "outputs": [],
   "source": [
    "ann = tf.keras.models.Sequential()"
   ]
  },
  {
   "cell_type": "markdown",
   "id": "a9aa917f-0027-4b4b-8edf-ca3365893bb7",
   "metadata": {
    "tags": []
   },
   "source": [
    "Adding the input layer and first hidden layer"
   ]
  },
  {
   "cell_type": "code",
   "execution_count": null,
   "id": "b43cdfce-7b4b-400e-b6e2-df50e3d3324a",
   "metadata": {
    "tags": []
   },
   "outputs": [],
   "source": [
    "ann.add(tf.keras.layers.Dense(units=6, activation=\"relu\"))"
   ]
  },
  {
   "cell_type": "markdown",
   "id": "d350c3a5-1f55-48b6-bc4a-0d76768bbbc7",
   "metadata": {
    "tags": []
   },
   "source": [
    "Adding the second hidden layer"
   ]
  },
  {
   "cell_type": "code",
   "execution_count": null,
   "id": "aefd144e-6251-47bd-85d7-ff8f50c37e6c",
   "metadata": {},
   "outputs": [],
   "source": [
    "ann.add(tf.keras.layers.Dense(units=6, activation=\"relu\"))"
   ]
  },
  {
   "cell_type": "markdown",
   "id": "21192d61-4098-44b1-b340-8c0a3e86ea68",
   "metadata": {},
   "source": [
    "Adding the output layer"
   ]
  },
  {
   "cell_type": "code",
   "execution_count": null,
   "id": "fc5d6e1a-fdfc-4697-a194-65b53303b632",
   "metadata": {},
   "outputs": [],
   "source": [
    "ann.add(tf.keras.layers.Dense(units=1, activation=\"sigmoid\"))"
   ]
  },
  {
   "cell_type": "markdown",
   "id": "56a5013c-73a1-4284-863b-0ee8600b5fb9",
   "metadata": {},
   "source": [
    "### Training the ANN"
   ]
  },
  {
   "cell_type": "markdown",
   "id": "6730d924-5a61-470e-af76-c93671fa021e",
   "metadata": {},
   "source": [
    "Compiling"
   ]
  },
  {
   "cell_type": "code",
   "execution_count": null,
   "id": "c9cef2ce-4a38-4eb4-b5c5-5bfe3756e4c2",
   "metadata": {},
   "outputs": [],
   "source": [
    "ann.compile(optimizer= \"adam\", loss= \"binary_crossentropy\", metrics= [\"accuracy\"])\n",
    "\n",
    "# \"adam\" --> Adam algorithm, a stochastic gradient descent method"
   ]
  },
  {
   "cell_type": "markdown",
   "id": "84518354-75bf-4027-b93c-0f2dcdcac55f",
   "metadata": {},
   "source": [
    "Training"
   ]
  },
  {
   "cell_type": "code",
   "execution_count": null,
   "id": "1dc6ad73-30f7-43d5-8f1a-3df9219ff32e",
   "metadata": {},
   "outputs": [],
   "source": [
    "ann.fit(X_train, y_train, batch_size= 32, epochs= 100)"
   ]
  },
  {
   "cell_type": "markdown",
   "id": "0cc3e12a-4950-432f-8164-3874f4a85bdf",
   "metadata": {},
   "source": [
    "### Model Evaluation"
   ]
  },
  {
   "cell_type": "code",
   "execution_count": null,
   "id": "af5af126-2544-4d10-8bf9-efe211c5f9c6",
   "metadata": {},
   "outputs": [],
   "source": [
    "y_pred = ann.predict(X_test)\n",
    "\n",
    "y_pred = (y_pred > 0.5)\n",
    "\n",
    "np.concatenate((y_pred.reshape(-1, 1), y_test.reshape(-1, 1)), axis= 1)"
   ]
  },
  {
   "cell_type": "code",
   "execution_count": null,
   "id": "9a3a37a9-c592-41b4-8e21-061e5eff0f9b",
   "metadata": {},
   "outputs": [],
   "source": [
    "from sklearn.metrics import confusion_matrix, accuracy_score\n",
    "confusion_matrix(y_test, y_pred)\n",
    "accuracy_score(y_test, y_pred)"
   ]
  },
  {
   "cell_type": "code",
   "execution_count": null,
   "id": "59383e44-1ca4-48d0-8eff-aea04585372c",
   "metadata": {},
   "outputs": [],
   "source": []
  },
  {
   "cell_type": "markdown",
   "id": "38565270-fce3-4c4e-837f-cd59793e96ac",
   "metadata": {},
   "source": [
    "## Convolutional Neural Network"
   ]
  },
  {
   "cell_type": "markdown",
   "id": "027a79ee-10a2-435f-95d8-68e23da97799",
   "metadata": {},
   "source": [
    "Importing libraries"
   ]
  },
  {
   "cell_type": "code",
   "execution_count": null,
   "id": "51e74838-f3b8-4ea2-8d97-0d56ebb0e954",
   "metadata": {},
   "outputs": [],
   "source": [
    "import tensorflow as tf\n",
    "from keras.preprocessing.image import ImageDataGenerator"
   ]
  },
  {
   "cell_type": "markdown",
   "id": "056273fb-36ce-48dc-9d0a-b28efef19c73",
   "metadata": {
    "tags": []
   },
   "source": [
    "### Data Preprocessing"
   ]
  },
  {
   "cell_type": "markdown",
   "id": "a0d6e7b2-3d72-415d-b1fb-76b5eefb3151",
   "metadata": {},
   "source": [
    "##### Preprocessing the training set"
   ]
  },
  {
   "cell_type": "markdown",
   "id": "f5391706-bd6c-4e61-bbf8-5bc66a60627e",
   "metadata": {
    "tags": []
   },
   "source": [
    "Image Augmentation - applying series of transformations to images to avoid overfitting."
   ]
  },
  {
   "cell_type": "markdown",
   "id": "35641fea-66ae-44cf-bbb8-ad99c5235ae9",
   "metadata": {},
   "source": [
    "rescale parameter is for feature scaling, each pixel will be a value between zero and one."
   ]
  },
  {
   "cell_type": "code",
   "execution_count": null,
   "id": "addb9330-8892-487c-9fe0-cfa16fcd3cae",
   "metadata": {},
   "outputs": [],
   "source": [
    "train_datagen =ImageDataGenerator(\n",
    "                rescale= 1./255,\n",
    "                shear_range= 0.2,\n",
    "                zoom_range= 0.2,\n",
    "                horizontal_flip= True)"
   ]
  },
  {
   "cell_type": "code",
   "execution_count": null,
   "id": "36cf87ac-9da0-4dfc-86b9-0dd05e695f85",
   "metadata": {},
   "outputs": [],
   "source": [
    "training_set = train_datagen.flow_from_directory(\"dataset/training_set\", \n",
    "                                                 target_size= (64, 64), \n",
    "                                                 batch_size= 32, \n",
    "                                                 class_mode= \"binary\")"
   ]
  },
  {
   "cell_type": "markdown",
   "id": "85aa22bf-6bed-4e98-a236-13cbda8a3a9f",
   "metadata": {
    "tags": []
   },
   "source": [
    "##### Preprocessing the test set"
   ]
  },
  {
   "cell_type": "markdown",
   "id": "e21ada8f-cdf5-4f3f-9239-e30b89c7cbde",
   "metadata": {},
   "source": [
    "Apply feature scaling for training and test sets but be careful not to transform/ augment the test set to avoid information leakage"
   ]
  },
  {
   "cell_type": "code",
   "execution_count": null,
   "id": "622b15b7-2010-4029-93da-903f9727faa8",
   "metadata": {},
   "outputs": [],
   "source": [
    "test_datagen = ImageDataGenerator(rescale= 1./255)\n",
    "\n",
    "test_set = test_datagen.flow_from_directory(\"dataset/test_set\",\n",
    "                                           target_size= (64, 64),\n",
    "                                           batch_size= 32,\n",
    "                                           class_mode= \"binary\")"
   ]
  },
  {
   "cell_type": "markdown",
   "id": "cf02d196-acf3-4290-b6dc-92c7a3bbc26c",
   "metadata": {},
   "source": [
    "### Building the CNN"
   ]
  },
  {
   "cell_type": "markdown",
   "id": "91188868-67e0-42c4-be11-ae7cb9ab425a",
   "metadata": {
    "tags": []
   },
   "source": [
    "##### Initializing the CNN"
   ]
  },
  {
   "cell_type": "code",
   "execution_count": null,
   "id": "11ce42e6-cab4-4e08-9116-410771d5ba53",
   "metadata": {},
   "outputs": [],
   "source": [
    "cnn = tf.keras.models.Sequential()"
   ]
  },
  {
   "cell_type": "markdown",
   "id": "73af27c7-5fd5-428b-8ff5-385999f33c7b",
   "metadata": {},
   "source": [
    "##### Adding the convolutional layer"
   ]
  },
  {
   "cell_type": "markdown",
   "id": "c36e15cc-c84a-48f0-8a98-78b4b29d03f6",
   "metadata": {},
   "source": [
    "input shape is a list of 3 integers corresponds to the rgb dimension"
   ]
  },
  {
   "cell_type": "code",
   "execution_count": null,
   "id": "a37325de-33a5-4582-81ac-52e203fce047",
   "metadata": {},
   "outputs": [],
   "source": [
    "cnn.add(tf.keras.layers.Conv2D(filters= 32, \n",
    "                               kernel_size= 3, \n",
    "                               activation= \"relu\", \n",
    "                               input_shape= [64, 64, 3]))"
   ]
  },
  {
   "cell_type": "markdown",
   "id": "ac1c14e9-7d7e-443e-a07e-fe471d32a738",
   "metadata": {},
   "source": [
    "##### Pooling"
   ]
  },
  {
   "cell_type": "code",
   "execution_count": null,
   "id": "303b7c1b-be3d-42c7-aa62-b54844246418",
   "metadata": {},
   "outputs": [],
   "source": [
    "cnn.add(tf.keras.layers.MaxPool2D(pool_size= 2, strides= 2))"
   ]
  },
  {
   "cell_type": "markdown",
   "id": "ba186042-7de1-4573-b928-c210cbab5a27",
   "metadata": {},
   "source": [
    "##### Adding a second convolutional layer"
   ]
  },
  {
   "cell_type": "code",
   "execution_count": null,
   "id": "7c9a48db-2017-4e3f-946e-e27882eb4737",
   "metadata": {
    "tags": []
   },
   "outputs": [],
   "source": [
    "cnn.add(tf.keras.layers.Conv2D(filters= 32, \n",
    "                               kernel_size= 3, \n",
    "                               activation= \"relu\"))\n",
    "\n",
    "# remove input_shape parameter\n",
    "\n",
    "cnn.add(tf.keras.layers.MaxPool2D(pool_size= 2, strides= 2))"
   ]
  },
  {
   "cell_type": "markdown",
   "id": "3bee38bf-6dad-46df-a36b-20669bda5c2e",
   "metadata": {
    "tags": []
   },
   "source": [
    "##### Flattening"
   ]
  },
  {
   "cell_type": "markdown",
   "id": "1b49db7e-148f-4800-842f-9e42c610cbb3",
   "metadata": {},
   "source": [
    "Output is a one dimensional vector that will be the input for the fully connected layer"
   ]
  },
  {
   "cell_type": "code",
   "execution_count": null,
   "id": "5290b10e-7d64-4a70-921d-393914d7b08c",
   "metadata": {},
   "outputs": [],
   "source": [
    "cnn.add(tf.keras.layers.Flatten())"
   ]
  },
  {
   "cell_type": "markdown",
   "id": "68600d87-4975-48eb-b7da-cef1d03c34e2",
   "metadata": {},
   "source": [
    "##### Full Connection"
   ]
  },
  {
   "cell_type": "code",
   "execution_count": null,
   "id": "15081d17-fbd0-4554-a1a9-b79fdbd53131",
   "metadata": {},
   "outputs": [],
   "source": [
    "cnn.add(tf.keras.layers.Dense(units= 128, activation= \"relu\"))"
   ]
  },
  {
   "cell_type": "markdown",
   "id": "96c1c03a-8dcf-4a7f-8dd3-e0282d19f9bf",
   "metadata": {},
   "source": [
    "##### Output layer"
   ]
  },
  {
   "cell_type": "markdown",
   "id": "ca98871d-0cf3-4a31-b17c-a03a685777a6",
   "metadata": {},
   "source": [
    "units= 1, activation= \"sigmoid\" for binary classification"
   ]
  },
  {
   "cell_type": "markdown",
   "id": "953e9fe4-4b98-4efb-9c3a-cb22c1d1e6a8",
   "metadata": {
    "tags": []
   },
   "source": [
    "activation= \"softmax\" for multi-class classification"
   ]
  },
  {
   "cell_type": "code",
   "execution_count": null,
   "id": "445be5c6-e8fc-42eb-85f4-86b8038c6c9e",
   "metadata": {},
   "outputs": [],
   "source": [
    "cnn.add(tf.keras.layers.Dense(units= 1, activation= \"sigmoid\"))"
   ]
  },
  {
   "cell_type": "markdown",
   "id": "e56ffe04-1c9d-4b82-a9f9-7001665c71be",
   "metadata": {},
   "source": [
    "### Training the CNN"
   ]
  },
  {
   "cell_type": "markdown",
   "id": "744bcc49-3de6-4728-a789-7efd8d2f03aa",
   "metadata": {},
   "source": [
    "##### Compiling"
   ]
  },
  {
   "cell_type": "code",
   "execution_count": null,
   "id": "9b6dabaf-506e-46db-8489-d5f9841d99dc",
   "metadata": {},
   "outputs": [],
   "source": [
    "cnn.compile(optimizer= \"adam\", loss= \"binary_crossentropy\", metrics= [\"accuracy\"])"
   ]
  },
  {
   "cell_type": "markdown",
   "id": "7d03086c-656a-4eb7-aff2-8e369cf9b269",
   "metadata": {},
   "source": [
    "##### Training on the training set and evaluating on the test set"
   ]
  },
  {
   "cell_type": "code",
   "execution_count": null,
   "id": "4917d7d7-bc05-4cf2-b03b-f3143875ebf4",
   "metadata": {},
   "outputs": [],
   "source": [
    "cnn.fit(x= training_set, validation_data= test_set, epochs= 25)"
   ]
  },
  {
   "cell_type": "markdown",
   "id": "0181c4b6-ea06-463b-9a52-eedbd7f6d368",
   "metadata": {},
   "source": [
    "### Making Prediction"
   ]
  },
  {
   "cell_type": "code",
   "execution_count": null,
   "id": "8a318de4-e664-43ea-81fb-6d1e8fcca2e3",
   "metadata": {},
   "outputs": [],
   "source": [
    "import numpy as np\n",
    "from keras.preprocessing import image\n",
    "\n",
    "test_image = image.load_img(\"dataset/single_prediction/cat_or_dog_1.jpg\", target_size= (64, 64))\n",
    "\n",
    "# Predict method expects a 2d array\n",
    "test_image = image.img_to_array(test_image)\n",
    "\n",
    "# image array must be contained in the same batch size specified when training the data\n",
    "test_image = np.expand_dims(test_image, axis= 0)\n",
    "\n",
    "# normalize the image array\n",
    "test_image = test_image / 255\n",
    "\n",
    "# identifying class assignment\n",
    "training_set.class_indices\n",
    "\n",
    "# cnn predict method\n",
    "result = cnn.predict(test_image)\n",
    "\n",
    "if result[0][0] > 0.5:\n",
    "    prediction = \"dog\"\n",
    "else:\n",
    "    prediction = \"cat\"\n",
    "    \n",
    "print(prediction)"
   ]
  },
  {
   "cell_type": "code",
   "execution_count": null,
   "id": "b22e36da-37e3-4281-925c-1acea19182c8",
   "metadata": {},
   "outputs": [],
   "source": []
  }
 ],
 "metadata": {
  "kernelspec": {
   "display_name": "Python 3",
   "language": "python",
   "name": "python3"
  },
  "language_info": {
   "codemirror_mode": {
    "name": "ipython",
    "version": 3
   },
   "file_extension": ".py",
   "mimetype": "text/x-python",
   "name": "python",
   "nbconvert_exporter": "python",
   "pygments_lexer": "ipython3",
   "version": "3.8.8"
  }
 },
 "nbformat": 4,
 "nbformat_minor": 5
}
